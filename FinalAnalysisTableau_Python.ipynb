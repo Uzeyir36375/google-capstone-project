{
  "nbformat": 4,
  "nbformat_minor": 0,
  "metadata": {
    "colab": {
      "provenance": []
    },
    "kernelspec": {
      "name": "python3",
      "display_name": "Python 3"
    },
    "language_info": {
      "name": "python"
    }
  },
  "cells": [
    {
      "cell_type": "code",
      "execution_count": 1,
      "metadata": {
        "id": "eiaTPhUOQjv4"
      },
      "outputs": [],
      "source": [
        "# Import necessary libraries\n",
        "import pandas as pd\n",
        "from datetime import datetime\n",
        "from datetime import timedelta"
      ]
    },
    {
      "cell_type": "code",
      "source": [
        "# Load each CSV file into the respective dataframe from August,2020 to July,2021\n",
        "# Load original .csv files, a year's worth of data from August 2020 to July 2021\n",
        "aug08_df = pd.read_csv(\"/content/drive/MyDrive/Google Data Analytics Capstone Project/202008-divvy-tripdata.csv\")\n",
        "sep09_df = pd.read_csv(\"/content/drive/MyDrive/Google Data Analytics Capstone Project/202009-divvy-tripdata.csv\")\n",
        "oct10_df = pd.read_csv(\"/content/drive/MyDrive/Google Data Analytics Capstone Project/202010-divvy-tripdata.csv\")\n",
        "nov11_df = pd.read_csv(\"/content/drive/MyDrive/Google Data Analytics Capstone Project/202011-divvy-tripdata.csv\")\n",
        "dec12_df = pd.read_csv(\"/content/drive/MyDrive/Google Data Analytics Capstone Project/202012-divvy-tripdata.csv\")\n",
        "jan01_df = pd.read_csv(\"/content/drive/MyDrive/Google Data Analytics Capstone Project/202101-divvy-tripdata.csv\")\n",
        "feb02_df = pd.read_csv(\"/content/drive/MyDrive/Google Data Analytics Capstone Project/202102-divvy-tripdata.csv\")\n",
        "mar03_df = pd.read_csv(\"/content/drive/MyDrive/Google Data Analytics Capstone Project/202103-divvy-tripdata.csv\")\n",
        "apr04_df = pd.read_csv(\"/content/drive/MyDrive/Google Data Analytics Capstone Project/202104-divvy-tripdata.csv\")\n",
        "may05_df = pd.read_csv(\"/content/drive/MyDrive/Google Data Analytics Capstone Project/202105-divvy-tripdata.csv\")\n",
        "jun06_df = pd.read_csv(\"/content/drive/MyDrive/Google Data Analytics Capstone Project/202106-divvy-tripdata.csv\")\n",
        "jul07_df = pd.read_csv(\"/content/drive/MyDrive/Google Data Analytics Capstone Project/202107-divvy-tripdata.csv\")"
      ],
      "metadata": {
        "id": "kPtLRoh-TOrg"
      },
      "execution_count": 2,
      "outputs": []
    },
    {
      "cell_type": "code",
      "source": [
        "# Merge all of the data frames into one year view\n",
        "cyclistic_df = pd.concat([aug08_df, sep09_df, oct10_df, nov11_df, dec12_df, jan01_df, feb02_df, mar03_df, apr04_df, may05_df, jun06_df, jul07_df])\n",
        "\n",
        "# Remove individual month data frames to clear up space in memory\n",
        "del aug08_df, sep09_df, oct10_df, nov11_df, dec12_df, jan01_df, feb02_df, mar03_df, apr04_df, may05_df, jun06_df, jul07_df\n",
        "\n",
        "# Create a new data frame to contain new columns\n",
        "cyclistic_date = cyclistic_df.copy()"
      ],
      "metadata": {
        "id": "qUGJT7tfUfxC"
      },
      "execution_count": 3,
      "outputs": []
    },
    {
      "cell_type": "code",
      "source": [
        "# Calculate ride length by subtracting ended_at time from started_at time and convert it to minutes\n",
        "cyclistic_date['started_at'] = pd.to_datetime(cyclistic_date['started_at'])\n",
        "cyclistic_date['ended_at'] = pd.to_datetime(cyclistic_date['ended_at'])\n",
        "cyclistic_date['ride_length'] = (cyclistic_date['ended_at'] - cyclistic_date['started_at']).dt.total_seconds() / 60\n",
        "cyclistic_date['ride_length'] = cyclistic_date['ride_length'].round(1)"
      ],
      "metadata": {
        "id": "TLJtzqzZUqAP"
      },
      "execution_count": 4,
      "outputs": []
    },
    {
      "cell_type": "code",
      "source": [
        "# Create columns for: total_ride, day of week, month, day, year, time, hour\n",
        "cyclistic_date['total_ride'] = cyclistic_date['ride_id'].value_counts().sum()/ 1_000_000\n",
        "cyclistic_date['total_ride'] = cyclistic_date['total_ride'].apply(lambda x: f'{x:.1f} M')\n",
        "cyclistic_date['date'] = cyclistic_date['started_at'].dt.date\n",
        "cyclistic_date['day_of_week'] = cyclistic_date['started_at'].dt.strftime('%A')\n",
        "cyclistic_date['month'] = cyclistic_date['started_at'].dt.strftime('%m')\n",
        "cyclistic_date['day'] = cyclistic_date['started_at'].dt.strftime('%d')\n",
        "cyclistic_date['year'] = cyclistic_date['started_at'].dt.strftime('%Y')\n",
        "cyclistic_date['time'] = cyclistic_date['started_at'].dt.strftime('%H:%M:%S')\n",
        "cyclistic_date['hour'] = cyclistic_date['started_at'].dt.hour"
      ],
      "metadata": {
        "id": "ECNaNlAAUuUp"
      },
      "execution_count": 14,
      "outputs": []
    },
    {
      "cell_type": "code",
      "source": [
        "# Create columns for different seasons: Spring, Summer, Fall, Winter\n",
        "cyclistic_date['season'] = cyclistic_date['month'].map({\n",
        "    '03': 'Spring', '04': 'Spring', '05': 'Spring',\n",
        "    '06': 'Summer', '07': 'Summer', '08': 'Summer',\n",
        "    '09': 'Fall', '10': 'Fall', '11': 'Fall',\n",
        "    '12': 'Winter', '01': 'Winter', '02': 'Winter'\n",
        "})"
      ],
      "metadata": {
        "id": "AzbqdngNU0qH"
      },
      "execution_count": 18,
      "outputs": []
    },
    {
      "cell_type": "code",
      "source": [
        "# Create columns for different time_of_day: Night, Morning, Afternoon, Evening\n",
        "cyclistic_date['time_of_day'] = cyclistic_date['hour'].apply(lambda hour: 'Night' if 0 <= hour < 6 else\n",
        "                                                             'Morning' if 6 <= hour < 12 else\n",
        "                                                             'Afternoon' if 12 <= hour < 18 else\n",
        "                                                             'Evening')"
      ],
      "metadata": {
        "id": "_7fVJWIrVHTk"
      },
      "execution_count": 19,
      "outputs": []
    },
    {
      "cell_type": "code",
      "source": [
        "# Create a column for the month using the full month name\n",
        "cyclistic_date['month'] = cyclistic_date['month'].map({\n",
        "    '01': 'January', '02': 'February', '03': 'March',\n",
        "    '04': 'April', '05': 'May', '06': 'June',\n",
        "    '07': 'July', '08': 'August', '09': 'September',\n",
        "    '10': 'October', '11': 'November', '12': 'December'\n",
        "})"
      ],
      "metadata": {
        "id": "6Iu-k59dVLPM"
      },
      "execution_count": 20,
      "outputs": []
    },
    {
      "cell_type": "code",
      "source": [
        "# Clean the data\n",
        "cyclistic_date.dropna(inplace=True)  # Remove rows with NA values\n",
        "cyclistic_date.drop_duplicates(inplace=True)  # Remove duplicate rows\n",
        "cyclistic_date = cyclistic_date[cyclistic_date['ride_length'] > 0]  # Remove rows where ride_length is <= 0\n",
        "cyclistic_date.drop(['ride_id', 'start_station_id', 'end_station_id', 'start_lat', 'start_lng', 'end_lat', 'end_lng'], axis=1, inplace=True)"
      ],
      "metadata": {
        "id": "guI2CmBskv8x"
      },
      "execution_count": null,
      "outputs": []
    },
    {
      "cell_type": "code",
      "source": [
        "# View the final data\n",
        "cyclistic_date.to_csv(\"cyclistic_data.csv\", index=False)  # Save the data to a CSV file"
      ],
      "metadata": {
        "id": "5u547VOXVc4-"
      },
      "execution_count": 26,
      "outputs": []
    }
  ]
}