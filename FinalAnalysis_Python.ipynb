{
  "nbformat": 4,
  "nbformat_minor": 0,
  "metadata": {
    "colab": {
      "provenance": []
    },
    "kernelspec": {
      "name": "python3",
      "display_name": "Python 3"
    },
    "language_info": {
      "name": "python"
    }
  },
  "cells": [
    {
      "cell_type": "markdown",
      "source": [
        "#*Final Analysis*"
      ],
      "metadata": {
        "id": "BztBlIgPU4HB"
      }
    },
    {
      "cell_type": "code",
      "source": [
        "# Import Libraries\n",
        "import numpy as np\n",
        "import pandas as pd\n",
        "import datetime as dt\n",
        "import matplotlib.pyplot as plt\n",
        "import seaborn as sns"
      ],
      "metadata": {
        "id": "_yErVD4IVZZd"
      },
      "execution_count": 1,
      "outputs": []
    },
    {
      "cell_type": "code",
      "execution_count": 2,
      "metadata": {
        "id": "bINXakQgUUlw"
      },
      "outputs": [],
      "source": [
        "# Load each CSV file into the respective dataframe from August,2020 to July,2021\n",
        "aug_df = pd.read_csv('/content/drive/MyDrive/Google Data Analytics Capstone Project/202008-divvy-tripdata.csv')\n",
        "sep_df = pd.read_csv('/content/drive/MyDrive/Google Data Analytics Capstone Project/202009-divvy-tripdata.csv')\n",
        "oct_df = pd.read_csv('/content/drive/MyDrive/Google Data Analytics Capstone Project/202010-divvy-tripdata.csv')\n",
        "nov_df = pd.read_csv('/content/drive/MyDrive/Google Data Analytics Capstone Project/202011-divvy-tripdata.csv')\n",
        "dec_df = pd.read_csv('/content/drive/MyDrive/Google Data Analytics Capstone Project/202012-divvy-tripdata.csv')\n",
        "jan_df = pd.read_csv('/content/drive/MyDrive/Google Data Analytics Capstone Project/202101-divvy-tripdata.csv')\n",
        "feb_df = pd.read_csv('/content/drive/MyDrive/Google Data Analytics Capstone Project/202102-divvy-tripdata.csv')\n",
        "mar_df = pd.read_csv('/content/drive/MyDrive/Google Data Analytics Capstone Project/202103-divvy-tripdata.csv')\n",
        "apr_df = pd.read_csv('/content/drive/MyDrive/Google Data Analytics Capstone Project/202104-divvy-tripdata.csv')\n",
        "may_df = pd.read_csv('/content/drive/MyDrive/Google Data Analytics Capstone Project/202105-divvy-tripdata.csv')\n",
        "jun_df = pd.read_csv('/content/drive/MyDrive/Google Data Analytics Capstone Project/202106-divvy-tripdata.csv')\n",
        "jul_df = pd.read_csv('/content/drive/MyDrive/Google Data Analytics Capstone Project/202107-divvy-tripdata.csv')"
      ]
    },
    {
      "cell_type": "code",
      "source": [
        "# Merge all of the data frames into one year view\n",
        "cyclistic_df = pd.concat([aug_df, sep_df, oct_df, nov_df, dec_df, jan_df, feb_df, mar_df, apr_df, may_df, jun_df, jul_df])\n",
        "\n",
        "# Remove individual month dataframes to clear up space in the environment\n",
        "del aug_df, sep_df, oct_df, nov_df, dec_df, jan_df, feb_df, mar_df, apr_df, may_df, jun_df, jul_df\n",
        "\n",
        "# Create a new dataframe to contain new columns\n",
        "cyclistic_date = cyclistic_df.copy()"
      ],
      "metadata": {
        "id": "ejsr8ZQVX3Yf"
      },
      "execution_count": 3,
      "outputs": []
    },
    {
      "cell_type": "code",
      "source": [
        "# Create a new column 'ride_length' by subtracting 'ended_at' from 'started_at' and converted it into minutes\n",
        "cyclistic_date['started_at'] = pd.to_datetime(cyclistic_date['started_at'])\n",
        "cyclistic_date['ended_at']   = pd.to_datetime(cyclistic_date['ended_at'])\n",
        "cyclistic_date['ride_length'] = (cyclistic_date['ended_at'] - cyclistic_date['started_at']).dt.total_seconds()/60"
      ],
      "metadata": {
        "id": "vQ8Dx7k_aMED"
      },
      "execution_count": 4,
      "outputs": []
    },
    {
      "cell_type": "code",
      "source": [
        "# Extract day, day of the week, month, year, time, and hour from 'started_at'\n",
        "cyclistic_date['day'] = cyclistic_date['started_at'].dt.strftime('%d')\n",
        "cyclistic_date['day_of_week'] = cyclistic_date['started_at'].dt.strftime('%A')\n",
        "cyclistic_date['month'] = cyclistic_date['started_at'].dt.strftime('%m')\n",
        "cyclistic_date['year'] = cyclistic_date['started_at'].dt.strftime('%Y')\n",
        "cyclistic_date['time'] = cyclistic_date['started_at'].dt.strftime('%H:%M:%S')\n",
        "cyclistic_date['hour'] = cyclistic_date['started_at'].dt.strftime('%H')"
      ],
      "metadata": {
        "id": "tPLNpGIgdh3c"
      },
      "execution_count": 5,
      "outputs": []
    },
    {
      "cell_type": "code",
      "source": [
        "# Define a function to categorize seasons for creating new column 'season'\n",
        "def get_season(month):\n",
        "    if month in ['03', '04', '05']:\n",
        "        return 'Spring'\n",
        "    elif month in ['06', '07', '08']:\n",
        "        return 'Summer'\n",
        "    elif month in ['09', '10', '11']:\n",
        "        return 'Fall'\n",
        "    else:\n",
        "        return 'Winter'\n",
        "\n",
        "cyclistic_date['season'] = cyclistic_date['month'].apply(get_season)"
      ],
      "metadata": {
        "id": "riN-rsObhfWc"
      },
      "execution_count": 6,
      "outputs": []
    },
    {
      "cell_type": "code",
      "source": [
        "# Define a function to categorize time of day for creating new column 'time_of_day'\n",
        "def get_time_of_day(hour):\n",
        "    if 0 <= int(hour) < 6:\n",
        "        return 'Night'\n",
        "    elif 6 <= int(hour) < 12:\n",
        "        return 'Morning'\n",
        "    elif 12 <= int(hour) < 18:\n",
        "        return 'Afternoon'\n",
        "    else:\n",
        "        return 'Evening'\n",
        "\n",
        "cyclistic_date['time_of_day'] = cyclistic_date['hour'].apply(get_time_of_day)"
      ],
      "metadata": {
        "id": "yfAaawkbjgI9"
      },
      "execution_count": 7,
      "outputs": []
    },
    {
      "cell_type": "code",
      "source": [
        "# Clean the data\n",
        "cyclistic_date = cyclistic_date.dropna()  # Remove rows with missing values\n",
        "cyclistic_date.drop_duplicates(inplace=True) # Remove duplicate rows\n",
        "cyclistic_date = cyclistic_date[cyclistic_date['ride_length'] > 0] #remove where ride_length is 0 or negative\n",
        "\n",
        "# Remove columns not needed: ride_id, start_station_id, end_station_id, start_lat, start_long, end_lat, end_lng\n",
        "columns_to_remove = ['ride_id', 'start_station_id', 'end_station_id', 'start_lat', 'start_lng', 'end_lat', 'end_lng']\n",
        "cyclistic_date.drop(columns=columns_to_remove, inplace=True)"
      ],
      "metadata": {
        "id": "ak3rqgcKe5bj"
      },
      "execution_count": 8,
      "outputs": []
    },
    {
      "cell_type": "code",
      "source": [
        "# View the finald data\n",
        "cyclistic_date.head(10)"
      ],
      "metadata": {
        "colab": {
          "base_uri": "https://localhost:8080/",
          "height": 536
        },
        "id": "FpTxo8aZksY9",
        "outputId": "cdbd328f-a11f-4b07-99e8-c38ca050ba24"
      },
      "execution_count": 9,
      "outputs": [
        {
          "output_type": "execute_result",
          "data": {
            "text/plain": [
              "   rideable_type          started_at            ended_at  \\\n",
              "0    docked_bike 2020-08-20 18:08:14 2020-08-20 18:17:51   \n",
              "1  electric_bike 2020-08-27 18:46:04 2020-08-27 19:54:51   \n",
              "2  electric_bike 2020-08-26 19:44:14 2020-08-26 21:53:07   \n",
              "3  electric_bike 2020-08-27 12:05:41 2020-08-27 12:53:45   \n",
              "4  electric_bike 2020-08-27 16:49:02 2020-08-27 16:59:49   \n",
              "5  electric_bike 2020-08-27 17:26:23 2020-08-27 18:07:50   \n",
              "6  electric_bike 2020-08-26 20:14:02 2020-08-26 20:34:00   \n",
              "7  electric_bike 2020-08-26 21:59:50 2020-08-26 22:12:35   \n",
              "8  electric_bike 2020-08-26 19:17:42 2020-08-26 19:32:14   \n",
              "9  electric_bike 2020-08-27 15:13:57 2020-08-27 15:41:59   \n",
              "\n",
              "                start_station_name           end_station_name member_casual  \\\n",
              "0    Lake Shore Dr & Diversey Pkwy     Clark St & Lincoln Ave        member   \n",
              "1           Michigan Ave & 14th St     Michigan Ave & 14th St        casual   \n",
              "2        Columbus Dr & Randolph St     State St & Randolph St        casual   \n",
              "3               Daley Center Plaza       State St & Kinzie St        casual   \n",
              "4         Leavitt St & Division St   Leavitt St & Division St        casual   \n",
              "5         Leavitt St & Division St   Leavitt St & Division St        casual   \n",
              "6  Cityfront Plaza Dr & Pioneer Ct    Dearborn St & Monroe St        casual   \n",
              "7    Sheffield Ave & Fullerton Ave  Southport Ave & Roscoe St        casual   \n",
              "8   Southport Ave & Wellington Ave   Halsted St & Dickens Ave        casual   \n",
              "9              Theater on the Lake  Western Ave & Division St        casual   \n",
              "\n",
              "   ride_length day day_of_week month  year      time hour  season time_of_day  \n",
              "0     9.616667  20    Thursday    08  2020  18:08:14   18  Summer     Evening  \n",
              "1    68.783333  27    Thursday    08  2020  18:46:04   18  Summer     Evening  \n",
              "2   128.883333  26   Wednesday    08  2020  19:44:14   19  Summer     Evening  \n",
              "3    48.066667  27    Thursday    08  2020  12:05:41   12  Summer   Afternoon  \n",
              "4    10.783333  27    Thursday    08  2020  16:49:02   16  Summer   Afternoon  \n",
              "5    41.450000  27    Thursday    08  2020  17:26:23   17  Summer   Afternoon  \n",
              "6    19.966667  26   Wednesday    08  2020  20:14:02   20  Summer     Evening  \n",
              "7    12.750000  26   Wednesday    08  2020  21:59:50   21  Summer     Evening  \n",
              "8    14.533333  26   Wednesday    08  2020  19:17:42   19  Summer     Evening  \n",
              "9    28.033333  27    Thursday    08  2020  15:13:57   15  Summer   Afternoon  "
            ],
            "text/html": [
              "\n",
              "  <div id=\"df-f68ccd2f-a0d0-44db-8f92-e4b95d714cff\" class=\"colab-df-container\">\n",
              "    <div>\n",
              "<style scoped>\n",
              "    .dataframe tbody tr th:only-of-type {\n",
              "        vertical-align: middle;\n",
              "    }\n",
              "\n",
              "    .dataframe tbody tr th {\n",
              "        vertical-align: top;\n",
              "    }\n",
              "\n",
              "    .dataframe thead th {\n",
              "        text-align: right;\n",
              "    }\n",
              "</style>\n",
              "<table border=\"1\" class=\"dataframe\">\n",
              "  <thead>\n",
              "    <tr style=\"text-align: right;\">\n",
              "      <th></th>\n",
              "      <th>rideable_type</th>\n",
              "      <th>started_at</th>\n",
              "      <th>ended_at</th>\n",
              "      <th>start_station_name</th>\n",
              "      <th>end_station_name</th>\n",
              "      <th>member_casual</th>\n",
              "      <th>ride_length</th>\n",
              "      <th>day</th>\n",
              "      <th>day_of_week</th>\n",
              "      <th>month</th>\n",
              "      <th>year</th>\n",
              "      <th>time</th>\n",
              "      <th>hour</th>\n",
              "      <th>season</th>\n",
              "      <th>time_of_day</th>\n",
              "    </tr>\n",
              "  </thead>\n",
              "  <tbody>\n",
              "    <tr>\n",
              "      <th>0</th>\n",
              "      <td>docked_bike</td>\n",
              "      <td>2020-08-20 18:08:14</td>\n",
              "      <td>2020-08-20 18:17:51</td>\n",
              "      <td>Lake Shore Dr &amp; Diversey Pkwy</td>\n",
              "      <td>Clark St &amp; Lincoln Ave</td>\n",
              "      <td>member</td>\n",
              "      <td>9.616667</td>\n",
              "      <td>20</td>\n",
              "      <td>Thursday</td>\n",
              "      <td>08</td>\n",
              "      <td>2020</td>\n",
              "      <td>18:08:14</td>\n",
              "      <td>18</td>\n",
              "      <td>Summer</td>\n",
              "      <td>Evening</td>\n",
              "    </tr>\n",
              "    <tr>\n",
              "      <th>1</th>\n",
              "      <td>electric_bike</td>\n",
              "      <td>2020-08-27 18:46:04</td>\n",
              "      <td>2020-08-27 19:54:51</td>\n",
              "      <td>Michigan Ave &amp; 14th St</td>\n",
              "      <td>Michigan Ave &amp; 14th St</td>\n",
              "      <td>casual</td>\n",
              "      <td>68.783333</td>\n",
              "      <td>27</td>\n",
              "      <td>Thursday</td>\n",
              "      <td>08</td>\n",
              "      <td>2020</td>\n",
              "      <td>18:46:04</td>\n",
              "      <td>18</td>\n",
              "      <td>Summer</td>\n",
              "      <td>Evening</td>\n",
              "    </tr>\n",
              "    <tr>\n",
              "      <th>2</th>\n",
              "      <td>electric_bike</td>\n",
              "      <td>2020-08-26 19:44:14</td>\n",
              "      <td>2020-08-26 21:53:07</td>\n",
              "      <td>Columbus Dr &amp; Randolph St</td>\n",
              "      <td>State St &amp; Randolph St</td>\n",
              "      <td>casual</td>\n",
              "      <td>128.883333</td>\n",
              "      <td>26</td>\n",
              "      <td>Wednesday</td>\n",
              "      <td>08</td>\n",
              "      <td>2020</td>\n",
              "      <td>19:44:14</td>\n",
              "      <td>19</td>\n",
              "      <td>Summer</td>\n",
              "      <td>Evening</td>\n",
              "    </tr>\n",
              "    <tr>\n",
              "      <th>3</th>\n",
              "      <td>electric_bike</td>\n",
              "      <td>2020-08-27 12:05:41</td>\n",
              "      <td>2020-08-27 12:53:45</td>\n",
              "      <td>Daley Center Plaza</td>\n",
              "      <td>State St &amp; Kinzie St</td>\n",
              "      <td>casual</td>\n",
              "      <td>48.066667</td>\n",
              "      <td>27</td>\n",
              "      <td>Thursday</td>\n",
              "      <td>08</td>\n",
              "      <td>2020</td>\n",
              "      <td>12:05:41</td>\n",
              "      <td>12</td>\n",
              "      <td>Summer</td>\n",
              "      <td>Afternoon</td>\n",
              "    </tr>\n",
              "    <tr>\n",
              "      <th>4</th>\n",
              "      <td>electric_bike</td>\n",
              "      <td>2020-08-27 16:49:02</td>\n",
              "      <td>2020-08-27 16:59:49</td>\n",
              "      <td>Leavitt St &amp; Division St</td>\n",
              "      <td>Leavitt St &amp; Division St</td>\n",
              "      <td>casual</td>\n",
              "      <td>10.783333</td>\n",
              "      <td>27</td>\n",
              "      <td>Thursday</td>\n",
              "      <td>08</td>\n",
              "      <td>2020</td>\n",
              "      <td>16:49:02</td>\n",
              "      <td>16</td>\n",
              "      <td>Summer</td>\n",
              "      <td>Afternoon</td>\n",
              "    </tr>\n",
              "    <tr>\n",
              "      <th>5</th>\n",
              "      <td>electric_bike</td>\n",
              "      <td>2020-08-27 17:26:23</td>\n",
              "      <td>2020-08-27 18:07:50</td>\n",
              "      <td>Leavitt St &amp; Division St</td>\n",
              "      <td>Leavitt St &amp; Division St</td>\n",
              "      <td>casual</td>\n",
              "      <td>41.450000</td>\n",
              "      <td>27</td>\n",
              "      <td>Thursday</td>\n",
              "      <td>08</td>\n",
              "      <td>2020</td>\n",
              "      <td>17:26:23</td>\n",
              "      <td>17</td>\n",
              "      <td>Summer</td>\n",
              "      <td>Afternoon</td>\n",
              "    </tr>\n",
              "    <tr>\n",
              "      <th>6</th>\n",
              "      <td>electric_bike</td>\n",
              "      <td>2020-08-26 20:14:02</td>\n",
              "      <td>2020-08-26 20:34:00</td>\n",
              "      <td>Cityfront Plaza Dr &amp; Pioneer Ct</td>\n",
              "      <td>Dearborn St &amp; Monroe St</td>\n",
              "      <td>casual</td>\n",
              "      <td>19.966667</td>\n",
              "      <td>26</td>\n",
              "      <td>Wednesday</td>\n",
              "      <td>08</td>\n",
              "      <td>2020</td>\n",
              "      <td>20:14:02</td>\n",
              "      <td>20</td>\n",
              "      <td>Summer</td>\n",
              "      <td>Evening</td>\n",
              "    </tr>\n",
              "    <tr>\n",
              "      <th>7</th>\n",
              "      <td>electric_bike</td>\n",
              "      <td>2020-08-26 21:59:50</td>\n",
              "      <td>2020-08-26 22:12:35</td>\n",
              "      <td>Sheffield Ave &amp; Fullerton Ave</td>\n",
              "      <td>Southport Ave &amp; Roscoe St</td>\n",
              "      <td>casual</td>\n",
              "      <td>12.750000</td>\n",
              "      <td>26</td>\n",
              "      <td>Wednesday</td>\n",
              "      <td>08</td>\n",
              "      <td>2020</td>\n",
              "      <td>21:59:50</td>\n",
              "      <td>21</td>\n",
              "      <td>Summer</td>\n",
              "      <td>Evening</td>\n",
              "    </tr>\n",
              "    <tr>\n",
              "      <th>8</th>\n",
              "      <td>electric_bike</td>\n",
              "      <td>2020-08-26 19:17:42</td>\n",
              "      <td>2020-08-26 19:32:14</td>\n",
              "      <td>Southport Ave &amp; Wellington Ave</td>\n",
              "      <td>Halsted St &amp; Dickens Ave</td>\n",
              "      <td>casual</td>\n",
              "      <td>14.533333</td>\n",
              "      <td>26</td>\n",
              "      <td>Wednesday</td>\n",
              "      <td>08</td>\n",
              "      <td>2020</td>\n",
              "      <td>19:17:42</td>\n",
              "      <td>19</td>\n",
              "      <td>Summer</td>\n",
              "      <td>Evening</td>\n",
              "    </tr>\n",
              "    <tr>\n",
              "      <th>9</th>\n",
              "      <td>electric_bike</td>\n",
              "      <td>2020-08-27 15:13:57</td>\n",
              "      <td>2020-08-27 15:41:59</td>\n",
              "      <td>Theater on the Lake</td>\n",
              "      <td>Western Ave &amp; Division St</td>\n",
              "      <td>casual</td>\n",
              "      <td>28.033333</td>\n",
              "      <td>27</td>\n",
              "      <td>Thursday</td>\n",
              "      <td>08</td>\n",
              "      <td>2020</td>\n",
              "      <td>15:13:57</td>\n",
              "      <td>15</td>\n",
              "      <td>Summer</td>\n",
              "      <td>Afternoon</td>\n",
              "    </tr>\n",
              "  </tbody>\n",
              "</table>\n",
              "</div>\n",
              "    <div class=\"colab-df-buttons\">\n",
              "\n",
              "  <div class=\"colab-df-container\">\n",
              "    <button class=\"colab-df-convert\" onclick=\"convertToInteractive('df-f68ccd2f-a0d0-44db-8f92-e4b95d714cff')\"\n",
              "            title=\"Convert this dataframe to an interactive table.\"\n",
              "            style=\"display:none;\">\n",
              "\n",
              "  <svg xmlns=\"http://www.w3.org/2000/svg\" height=\"24px\" viewBox=\"0 -960 960 960\">\n",
              "    <path d=\"M120-120v-720h720v720H120Zm60-500h600v-160H180v160Zm220 220h160v-160H400v160Zm0 220h160v-160H400v160ZM180-400h160v-160H180v160Zm440 0h160v-160H620v160ZM180-180h160v-160H180v160Zm440 0h160v-160H620v160Z\"/>\n",
              "  </svg>\n",
              "    </button>\n",
              "\n",
              "  <style>\n",
              "    .colab-df-container {\n",
              "      display:flex;\n",
              "      gap: 12px;\n",
              "    }\n",
              "\n",
              "    .colab-df-convert {\n",
              "      background-color: #E8F0FE;\n",
              "      border: none;\n",
              "      border-radius: 50%;\n",
              "      cursor: pointer;\n",
              "      display: none;\n",
              "      fill: #1967D2;\n",
              "      height: 32px;\n",
              "      padding: 0 0 0 0;\n",
              "      width: 32px;\n",
              "    }\n",
              "\n",
              "    .colab-df-convert:hover {\n",
              "      background-color: #E2EBFA;\n",
              "      box-shadow: 0px 1px 2px rgba(60, 64, 67, 0.3), 0px 1px 3px 1px rgba(60, 64, 67, 0.15);\n",
              "      fill: #174EA6;\n",
              "    }\n",
              "\n",
              "    .colab-df-buttons div {\n",
              "      margin-bottom: 4px;\n",
              "    }\n",
              "\n",
              "    [theme=dark] .colab-df-convert {\n",
              "      background-color: #3B4455;\n",
              "      fill: #D2E3FC;\n",
              "    }\n",
              "\n",
              "    [theme=dark] .colab-df-convert:hover {\n",
              "      background-color: #434B5C;\n",
              "      box-shadow: 0px 1px 3px 1px rgba(0, 0, 0, 0.15);\n",
              "      filter: drop-shadow(0px 1px 2px rgba(0, 0, 0, 0.3));\n",
              "      fill: #FFFFFF;\n",
              "    }\n",
              "  </style>\n",
              "\n",
              "    <script>\n",
              "      const buttonEl =\n",
              "        document.querySelector('#df-f68ccd2f-a0d0-44db-8f92-e4b95d714cff button.colab-df-convert');\n",
              "      buttonEl.style.display =\n",
              "        google.colab.kernel.accessAllowed ? 'block' : 'none';\n",
              "\n",
              "      async function convertToInteractive(key) {\n",
              "        const element = document.querySelector('#df-f68ccd2f-a0d0-44db-8f92-e4b95d714cff');\n",
              "        const dataTable =\n",
              "          await google.colab.kernel.invokeFunction('convertToInteractive',\n",
              "                                                    [key], {});\n",
              "        if (!dataTable) return;\n",
              "\n",
              "        const docLinkHtml = 'Like what you see? Visit the ' +\n",
              "          '<a target=\"_blank\" href=https://colab.research.google.com/notebooks/data_table.ipynb>data table notebook</a>'\n",
              "          + ' to learn more about interactive tables.';\n",
              "        element.innerHTML = '';\n",
              "        dataTable['output_type'] = 'display_data';\n",
              "        await google.colab.output.renderOutput(dataTable, element);\n",
              "        const docLink = document.createElement('div');\n",
              "        docLink.innerHTML = docLinkHtml;\n",
              "        element.appendChild(docLink);\n",
              "      }\n",
              "    </script>\n",
              "  </div>\n",
              "\n",
              "\n",
              "<div id=\"df-117c1eb5-69b0-4016-8fb8-3c74e81d0e9c\">\n",
              "  <button class=\"colab-df-quickchart\" onclick=\"quickchart('df-117c1eb5-69b0-4016-8fb8-3c74e81d0e9c')\"\n",
              "            title=\"Suggest charts.\"\n",
              "            style=\"display:none;\">\n",
              "\n",
              "<svg xmlns=\"http://www.w3.org/2000/svg\" height=\"24px\"viewBox=\"0 0 24 24\"\n",
              "     width=\"24px\">\n",
              "    <g>\n",
              "        <path d=\"M19 3H5c-1.1 0-2 .9-2 2v14c0 1.1.9 2 2 2h14c1.1 0 2-.9 2-2V5c0-1.1-.9-2-2-2zM9 17H7v-7h2v7zm4 0h-2V7h2v10zm4 0h-2v-4h2v4z\"/>\n",
              "    </g>\n",
              "</svg>\n",
              "  </button>\n",
              "\n",
              "<style>\n",
              "  .colab-df-quickchart {\n",
              "      --bg-color: #E8F0FE;\n",
              "      --fill-color: #1967D2;\n",
              "      --hover-bg-color: #E2EBFA;\n",
              "      --hover-fill-color: #174EA6;\n",
              "      --disabled-fill-color: #AAA;\n",
              "      --disabled-bg-color: #DDD;\n",
              "  }\n",
              "\n",
              "  [theme=dark] .colab-df-quickchart {\n",
              "      --bg-color: #3B4455;\n",
              "      --fill-color: #D2E3FC;\n",
              "      --hover-bg-color: #434B5C;\n",
              "      --hover-fill-color: #FFFFFF;\n",
              "      --disabled-bg-color: #3B4455;\n",
              "      --disabled-fill-color: #666;\n",
              "  }\n",
              "\n",
              "  .colab-df-quickchart {\n",
              "    background-color: var(--bg-color);\n",
              "    border: none;\n",
              "    border-radius: 50%;\n",
              "    cursor: pointer;\n",
              "    display: none;\n",
              "    fill: var(--fill-color);\n",
              "    height: 32px;\n",
              "    padding: 0;\n",
              "    width: 32px;\n",
              "  }\n",
              "\n",
              "  .colab-df-quickchart:hover {\n",
              "    background-color: var(--hover-bg-color);\n",
              "    box-shadow: 0 1px 2px rgba(60, 64, 67, 0.3), 0 1px 3px 1px rgba(60, 64, 67, 0.15);\n",
              "    fill: var(--button-hover-fill-color);\n",
              "  }\n",
              "\n",
              "  .colab-df-quickchart-complete:disabled,\n",
              "  .colab-df-quickchart-complete:disabled:hover {\n",
              "    background-color: var(--disabled-bg-color);\n",
              "    fill: var(--disabled-fill-color);\n",
              "    box-shadow: none;\n",
              "  }\n",
              "\n",
              "  .colab-df-spinner {\n",
              "    border: 2px solid var(--fill-color);\n",
              "    border-color: transparent;\n",
              "    border-bottom-color: var(--fill-color);\n",
              "    animation:\n",
              "      spin 1s steps(1) infinite;\n",
              "  }\n",
              "\n",
              "  @keyframes spin {\n",
              "    0% {\n",
              "      border-color: transparent;\n",
              "      border-bottom-color: var(--fill-color);\n",
              "      border-left-color: var(--fill-color);\n",
              "    }\n",
              "    20% {\n",
              "      border-color: transparent;\n",
              "      border-left-color: var(--fill-color);\n",
              "      border-top-color: var(--fill-color);\n",
              "    }\n",
              "    30% {\n",
              "      border-color: transparent;\n",
              "      border-left-color: var(--fill-color);\n",
              "      border-top-color: var(--fill-color);\n",
              "      border-right-color: var(--fill-color);\n",
              "    }\n",
              "    40% {\n",
              "      border-color: transparent;\n",
              "      border-right-color: var(--fill-color);\n",
              "      border-top-color: var(--fill-color);\n",
              "    }\n",
              "    60% {\n",
              "      border-color: transparent;\n",
              "      border-right-color: var(--fill-color);\n",
              "    }\n",
              "    80% {\n",
              "      border-color: transparent;\n",
              "      border-right-color: var(--fill-color);\n",
              "      border-bottom-color: var(--fill-color);\n",
              "    }\n",
              "    90% {\n",
              "      border-color: transparent;\n",
              "      border-bottom-color: var(--fill-color);\n",
              "    }\n",
              "  }\n",
              "</style>\n",
              "\n",
              "  <script>\n",
              "    async function quickchart(key) {\n",
              "      const quickchartButtonEl =\n",
              "        document.querySelector('#' + key + ' button');\n",
              "      quickchartButtonEl.disabled = true;  // To prevent multiple clicks.\n",
              "      quickchartButtonEl.classList.add('colab-df-spinner');\n",
              "      try {\n",
              "        const charts = await google.colab.kernel.invokeFunction(\n",
              "            'suggestCharts', [key], {});\n",
              "      } catch (error) {\n",
              "        console.error('Error during call to suggestCharts:', error);\n",
              "      }\n",
              "      quickchartButtonEl.classList.remove('colab-df-spinner');\n",
              "      quickchartButtonEl.classList.add('colab-df-quickchart-complete');\n",
              "    }\n",
              "    (() => {\n",
              "      let quickchartButtonEl =\n",
              "        document.querySelector('#df-117c1eb5-69b0-4016-8fb8-3c74e81d0e9c button');\n",
              "      quickchartButtonEl.style.display =\n",
              "        google.colab.kernel.accessAllowed ? 'block' : 'none';\n",
              "    })();\n",
              "  </script>\n",
              "</div>\n",
              "    </div>\n",
              "  </div>\n"
            ]
          },
          "metadata": {},
          "execution_count": 9
        }
      ]
    },
    {
      "cell_type": "markdown",
      "source": [
        "#*Total `Rides`*"
      ],
      "metadata": {
        "id": "U_oKPMmBldb8"
      }
    },
    {
      "cell_type": "code",
      "source": [
        "# Total number of rides\n",
        "total_rides = len(cyclistic_date)\n",
        "print(f'Total Rides: {total_rides}')"
      ],
      "metadata": {
        "id": "MtRnxYszlTX5",
        "colab": {
          "base_uri": "https://localhost:8080/"
        },
        "outputId": "7db46c33-deef-4a9e-e0c9-66375a58db07"
      },
      "execution_count": 11,
      "outputs": [
        {
          "output_type": "stream",
          "name": "stdout",
          "text": [
            "Total Rides: 4159132\n"
          ]
        }
      ]
    },
    {
      "cell_type": "markdown",
      "source": [
        "## *`Member` Type*"
      ],
      "metadata": {
        "id": "BBZcPqeMm7fy"
      }
    },
    {
      "cell_type": "code",
      "source": [
        "member_counts = cyclistic_date['member_casual'].value_counts()\n",
        "print('Member Type:')\n",
        "print(member_counts)"
      ],
      "metadata": {
        "id": "l0wK3f4wnyqk"
      },
      "execution_count": null,
      "outputs": []
    },
    {
      "cell_type": "markdown",
      "source": [
        "## *Type of `Bike`*"
      ],
      "metadata": {
        "id": "MDfV69CXoMx9"
      }
    },
    {
      "cell_type": "code",
      "source": [
        "# Total rides by member type and bike type\n",
        "bike_type_counts = cyclistic_date.groupby(['member_casual', 'rideable_type']).size().unstack(fill_value=0)\n",
        "print(\"Total Rides by Member Type and Bike Type:\")\n",
        "print(bike_type_counts)\n",
        "\n",
        "# Total rides by bike type\n",
        "total_bike_type_counts = cyclistic_date['rideable_type'].value_counts()\n",
        "print(\"Total Rides by Bike Type:\")\n",
        "print(total_bike_type_counts)"
      ],
      "metadata": {
        "id": "3VxBqvZaqmtY"
      },
      "execution_count": null,
      "outputs": []
    },
    {
      "cell_type": "markdown",
      "source": [
        "## *`Hour`*"
      ],
      "metadata": {
        "id": "ORVXjDaArUbq"
      }
    },
    {
      "cell_type": "code",
      "source": [
        "# Total rides by member type and hour\n",
        "hourly_counts = cyclistic_date.groupby(['member_casual', 'hour']).size().unstack(fill_value=0)\n",
        "print(\"Total Rides by Member Type and Hour:\")\n",
        "print(hourly_counts)\n",
        "\n",
        "# Total rides by hour\n",
        "total_hourly_counts = cyclistic_date['hour'].value_counts().sort_index()\n",
        "print(\"Total Rides by Hour:\")\n",
        "print(total_hourly_counts)"
      ],
      "metadata": {
        "id": "-CkcPvRjrTJ0"
      },
      "execution_count": null,
      "outputs": []
    },
    {
      "cell_type": "markdown",
      "source": [
        "## *`Time` of Day*"
      ],
      "metadata": {
        "id": "gwfdNWKvuAsS"
      }
    },
    {
      "cell_type": "code",
      "source": [
        "# Total rides by member type and time of day\n",
        "time_of_day_counts = cyclistic_date.groupby(['member_casual', 'time_of_day']).size().unstack(fill_value=0)\n",
        "print(\"Total Rides by Member Type and Time of Day:\")\n",
        "print(time_of_day_counts)\n",
        "\n",
        "# Total rides by time of day\n",
        "total_time_of_day_counts = cyclistic_date['time_of_day'].value_counts()\n",
        "print(\"Total Rides by Time of Day:\")\n",
        "print(total_time_of_day_counts)"
      ],
      "metadata": {
        "id": "jDzxD-GOvEHQ"
      },
      "execution_count": null,
      "outputs": []
    },
    {
      "cell_type": "markdown",
      "source": [
        "## *Day of the `Week`*"
      ],
      "metadata": {
        "id": "POiwY8Q0vNMr"
      }
    },
    {
      "cell_type": "code",
      "source": [
        "# Total rides by member type and day of the week\n",
        "day_of_week_counts = cyclistic_date.groupby(['member_casual', 'day_of_week']).size().unstack(fill_value=0)\n",
        "print(\"Total Rides by Member Type and Day of the Week:\")\n",
        "print(day_of_week_counts)\n",
        "\n",
        "# Total rides by day of the week\n",
        "total_day_of_week_counts = cyclistic_date['day_of_week'].value_counts()\n",
        "print(\"Total Rides by Day of the Week:\")\n",
        "print(total_day_of_week_counts)"
      ],
      "metadata": {
        "id": "spNZrdARwR--"
      },
      "execution_count": null,
      "outputs": []
    },
    {
      "cell_type": "markdown",
      "source": [
        "## *Day of the `Month`*"
      ],
      "metadata": {
        "id": "4jzFMVhzwrF1"
      }
    },
    {
      "cell_type": "code",
      "source": [
        "# Total rides by member type and day of the month\n",
        "day_of_month_counts = cyclistic_date.groupby(['member_casual', 'day']).size().unstack(fill_value=0)\n",
        "print(\"Total Rides by Member Type and Day of the Month:\")\n",
        "print(day_of_month_counts)\n",
        "\n",
        "# Total rides by day of the month\n",
        "total_day_of_month_counts = cyclistic_date['day'].value_counts().sort_index()\n",
        "print(\"Total Rides by Day of the Month:\")\n",
        "print(total_day_of_month_counts)"
      ],
      "metadata": {
        "id": "9LFCymnKx5Ad"
      },
      "execution_count": null,
      "outputs": []
    },
    {
      "cell_type": "markdown",
      "source": [
        "## *`Month`*"
      ],
      "metadata": {
        "id": "z7vEIOu7yIqO"
      }
    },
    {
      "cell_type": "code",
      "source": [
        "# Total rides by member type and month\n",
        "month_counts = cyclistic_date.groupby(['member_casual', 'month']).size().unstack(fill_value=0)\n",
        "print(\"Total Rides by Member Type and Month:\")\n",
        "print(month_counts)\n",
        "\n",
        "# Total rides by month\n",
        "total_month_counts = cyclistic_date['month'].value_counts().sort_index()\n",
        "print(\"Total Rides by Month:\")\n",
        "print(total_month_counts)"
      ],
      "metadata": {
        "id": "xTfelyFNy0qJ"
      },
      "execution_count": null,
      "outputs": []
    },
    {
      "cell_type": "markdown",
      "source": [
        "## *`Season`*"
      ],
      "metadata": {
        "id": "4RbBvfAqzLjB"
      }
    },
    {
      "cell_type": "code",
      "source": [
        "# Total rides by member type and season\n",
        "season_counts = cyclistic_date.groupby(['member_casual', 'season']).size().unstack(fill_value=0)\n",
        "print(\"Total Rides by Member Type and Season:\")\n",
        "print(season_counts)\n",
        "\n",
        "# Total rides by season\n",
        "total_season_counts = cyclistic_date['season'].value_counts()\n",
        "print(\"Total Rides by Season:\")\n",
        "print(total_season_counts)"
      ],
      "metadata": {
        "id": "Q22txYWDz-mv"
      },
      "execution_count": null,
      "outputs": []
    },
    {
      "cell_type": "markdown",
      "source": [
        "# *Average `Ride Length`*"
      ],
      "metadata": {
        "id": "f4rXvMnv0LlA"
      }
    },
    {
      "cell_type": "code",
      "source": [
        "cyclistic_avgRide = cyclistic_date['ride_length'].mean()\n",
        "print(f'Average Ride Length: {cyclistic_avgRide:.2f}')"
      ],
      "metadata": {
        "colab": {
          "base_uri": "https://localhost:8080/"
        },
        "id": "_mQi3Irc0TLS",
        "outputId": "9b3da163-8fc3-4330-b682-06eb5206f60f"
      },
      "execution_count": null,
      "outputs": [
        {
          "output_type": "stream",
          "name": "stdout",
          "text": [
            "Average Ride Length: 24.57\n"
          ]
        }
      ]
    },
    {
      "cell_type": "markdown",
      "source": [
        "## *`Member` Type*"
      ],
      "metadata": {
        "id": "bSlZqEP33sAs"
      }
    },
    {
      "cell_type": "code",
      "source": [
        "# Average ride length by member type\n",
        "member_type_avg = cyclistic_date.groupby('member_casual')['ride_length'].mean()\n",
        "print('Average Ride Length by Member Type:')\n",
        "print(member_type_avg)"
      ],
      "metadata": {
        "id": "RcMBz_E14eA3"
      },
      "execution_count": null,
      "outputs": []
    },
    {
      "cell_type": "markdown",
      "source": [
        "## *Type of `Bike`*"
      ],
      "metadata": {
        "id": "QcOq6sxj5xNK"
      }
    },
    {
      "cell_type": "code",
      "source": [
        "# Average ride length by member type and rideable type\n",
        "bike_type_avg = cyclistic_date.groupby(['member_casual', 'rideable_type'])['ride_length'].mean().reset_index()\n",
        "print('Average Ride Length by Member Type and Rideable Type:')\n",
        "print(bike_type_avg)\n",
        "\n",
        "# Average ride length by rideable type\n",
        "rideable_type_avg = cyclistic_date.groupby('rideable_type')['ride_length'].mean().reset_index()\n",
        "print('Average Ride Length by Rideable Rype:')\n",
        "print(rideable_type_avg)"
      ],
      "metadata": {
        "id": "KM_niKpM8Fo8"
      },
      "execution_count": null,
      "outputs": []
    },
    {
      "cell_type": "markdown",
      "source": [
        "## *`Hour`*"
      ],
      "metadata": {
        "id": "5cN7uDSo8LVU"
      }
    },
    {
      "cell_type": "code",
      "source": [
        "# Average ride length by member type and hour\n",
        "hourly_avg = cyclistic_date.groupby(['member_casual','hour'])['ride_length'].mean().reset_index()\n",
        "print('Average Ride Length by Member Type and Hour:')\n",
        "print(hourly_avg)\n",
        "\n",
        "# Average ride length by hour\n",
        "hour_avg = cyclistic_date.groupby('hour')['ride_length'].mean()\n",
        "print('Average Ride Length by Hour:')\n",
        "print(hour_avg)"
      ],
      "metadata": {
        "id": "fcLzWGUz8cIF"
      },
      "execution_count": null,
      "outputs": []
    },
    {
      "cell_type": "markdown",
      "source": [
        "## *`Time` of Day*"
      ],
      "metadata": {
        "id": "E4FOB2Vr-StJ"
      }
    },
    {
      "cell_type": "code",
      "source": [
        "# Average ride length by member type and time of day\n",
        "time_of_day_avg = cyclistic_date.groupby(['member_casual', 'time_of_day'])['ride_length'].mean()\n",
        "print('Average Ride Length by Member Type and Time of Day:')\n",
        "print(time_of_day_avg)\n",
        "\n",
        "# Average ride length by time of day\n",
        "time_avg = cyclistic_date.groupby('time_of_day')['ride_length'].mean()\n",
        "print('Average Ride Length by Time of Day:')\n",
        "print(time_avg)"
      ],
      "metadata": {
        "id": "JjIB7nfF-Zht"
      },
      "execution_count": null,
      "outputs": []
    },
    {
      "cell_type": "markdown",
      "source": [
        "## *Day of the `Week`*"
      ],
      "metadata": {
        "id": "-1NnGGLEANE3"
      }
    },
    {
      "cell_type": "code",
      "source": [
        "# Average ride length by member type and day of the week\n",
        "day_of_week_avg = cyclistic_date.groupby(['member_casual', 'day_of_week'])['ride_length'].mean()\n",
        "print('Average Ride Length by Member Type and Day of Week:')\n",
        "print(day_of_week_avg)\n",
        "\n",
        "# Average ride length by day of the week\n",
        "day_avg = cyclistic_date.groupby('day_of_week')['ride_length'].mean().reset_index()\n",
        "print('Average Ride Length by Day of Week:')\n",
        "print(day_avg)"
      ],
      "metadata": {
        "id": "97EmDAgZASey"
      },
      "execution_count": null,
      "outputs": []
    },
    {
      "cell_type": "markdown",
      "source": [
        "## *Day of the `Month`*"
      ],
      "metadata": {
        "id": "u0XIt4weBt6j"
      }
    },
    {
      "cell_type": "code",
      "source": [
        "# Average ride length by member type and day of the month\n",
        "day_of_month_avg = cyclistic_date.groupby(['member_casual', 'day'])['ride_length'].mean()\n",
        "print('Average Ride Length by Member Type and Day of Month:')\n",
        "print(day_of_month_avg)\n",
        "\n",
        "# Average ride length by day of the month\n",
        "day_month_avg = cyclistic_date.groupby('day')['ride_length'].mean().reset_index()\n",
        "print('Average Ride Length by Day of Month:')\n",
        "print(day_month_avg)"
      ],
      "metadata": {
        "id": "SVjv6zqaBvHb"
      },
      "execution_count": null,
      "outputs": []
    },
    {
      "cell_type": "markdown",
      "source": [
        "## *`Month`*"
      ],
      "metadata": {
        "id": "ONWR1PcCDrNX"
      }
    },
    {
      "cell_type": "code",
      "source": [
        "# Average ride length by member type and month\n",
        "month_avg = cyclistic_date.groupby(['member_casual', 'month'])['ride_length'].mean().reset_index()\n",
        "print('Average Ride Length by Member Type and Month:')\n",
        "print(month_avg)\n",
        "\n",
        "# Average ride length by month\n",
        "month_avg_all = cyclistic_date.groupby('month')['ride_length'].mean().reset_index()\n",
        "print('Average Ride Length by Month:')\n",
        "print(month_avg_all)"
      ],
      "metadata": {
        "id": "PctsI46yDsNt"
      },
      "execution_count": null,
      "outputs": []
    },
    {
      "cell_type": "markdown",
      "source": [
        "## *`Season`*"
      ],
      "metadata": {
        "id": "sc1YLrLKEhtc"
      }
    },
    {
      "cell_type": "code",
      "source": [
        "# Average ride length by member type and season\n",
        "season_avg = cyclistic_date.groupby(['member_casual', 'season'])['ride_length'].mean()\n",
        "print('Average Ride Length by Member Type and Season:')\n",
        "print(season_avg)\n",
        "\n",
        "# Average ride length by season\n",
        "season_avg_all = cyclistic_date.groupby('season')['ride_length'].mean()\n",
        "print('Average Ride Length by Season:')\n",
        "print(season_avg_all)"
      ],
      "metadata": {
        "id": "JwK1qHxCEvOK"
      },
      "execution_count": null,
      "outputs": []
    }
  ]
}